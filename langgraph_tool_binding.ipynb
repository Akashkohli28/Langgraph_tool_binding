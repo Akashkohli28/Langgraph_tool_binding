{
  "nbformat": 4,
  "nbformat_minor": 0,
  "metadata": {
    "colab": {
      "provenance": [],
      "gpuType": "T4"
    },
    "kernelspec": {
      "name": "python3",
      "display_name": "Python 3"
    },
    "language_info": {
      "name": "python"
    },
    "accelerator": "GPU"
  },
  "cells": [
    {
      "cell_type": "markdown",
      "source": [],
      "metadata": {
        "id": "R1ccEfAiG6TH"
      }
    },
    {
      "cell_type": "code",
      "execution_count": 18,
      "metadata": {
        "colab": {
          "base_uri": "https://localhost:8080/"
        },
        "id": "aSrZzveSlDAa",
        "outputId": "f26770e8-e394-4407-d2b2-528d187183bf"
      },
      "outputs": [
        {
          "output_type": "stream",
          "name": "stdout",
          "text": [
            "Requirement already satisfied: langchain in /usr/local/lib/python3.11/dist-packages (0.3.26)\n",
            "Requirement already satisfied: langchain-community in /usr/local/lib/python3.11/dist-packages (0.3.27)\n",
            "Requirement already satisfied: langchain-openai in /usr/local/lib/python3.11/dist-packages (0.3.28)\n",
            "Requirement already satisfied: openai in /usr/local/lib/python3.11/dist-packages (1.97.0)\n",
            "Requirement already satisfied: langgraph in /usr/local/lib/python3.11/dist-packages (0.5.4)\n",
            "Requirement already satisfied: langchain-core<1.0.0,>=0.3.66 in /usr/local/lib/python3.11/dist-packages (from langchain) (0.3.69)\n",
            "Requirement already satisfied: langchain-text-splitters<1.0.0,>=0.3.8 in /usr/local/lib/python3.11/dist-packages (from langchain) (0.3.8)\n",
            "Requirement already satisfied: langsmith>=0.1.17 in /usr/local/lib/python3.11/dist-packages (from langchain) (0.4.7)\n",
            "Requirement already satisfied: pydantic<3.0.0,>=2.7.4 in /usr/local/lib/python3.11/dist-packages (from langchain) (2.11.7)\n",
            "Requirement already satisfied: SQLAlchemy<3,>=1.4 in /usr/local/lib/python3.11/dist-packages (from langchain) (2.0.41)\n",
            "Requirement already satisfied: requests<3,>=2 in /usr/local/lib/python3.11/dist-packages (from langchain) (2.32.3)\n",
            "Requirement already satisfied: PyYAML>=5.3 in /usr/local/lib/python3.11/dist-packages (from langchain) (6.0.2)\n",
            "Requirement already satisfied: aiohttp<4.0.0,>=3.8.3 in /usr/local/lib/python3.11/dist-packages (from langchain-community) (3.11.15)\n",
            "Requirement already satisfied: tenacity!=8.4.0,<10,>=8.1.0 in /usr/local/lib/python3.11/dist-packages (from langchain-community) (8.5.0)\n",
            "Requirement already satisfied: dataclasses-json<0.7,>=0.5.7 in /usr/local/lib/python3.11/dist-packages (from langchain-community) (0.6.7)\n",
            "Requirement already satisfied: pydantic-settings<3.0.0,>=2.4.0 in /usr/local/lib/python3.11/dist-packages (from langchain-community) (2.10.1)\n",
            "Requirement already satisfied: httpx-sse<1.0.0,>=0.4.0 in /usr/local/lib/python3.11/dist-packages (from langchain-community) (0.4.1)\n",
            "Requirement already satisfied: numpy>=1.26.2 in /usr/local/lib/python3.11/dist-packages (from langchain-community) (2.0.2)\n",
            "Requirement already satisfied: tiktoken<1,>=0.7 in /usr/local/lib/python3.11/dist-packages (from langchain-openai) (0.9.0)\n",
            "Requirement already satisfied: anyio<5,>=3.5.0 in /usr/local/lib/python3.11/dist-packages (from openai) (4.9.0)\n",
            "Requirement already satisfied: distro<2,>=1.7.0 in /usr/local/lib/python3.11/dist-packages (from openai) (1.9.0)\n",
            "Requirement already satisfied: httpx<1,>=0.23.0 in /usr/local/lib/python3.11/dist-packages (from openai) (0.28.1)\n",
            "Requirement already satisfied: jiter<1,>=0.4.0 in /usr/local/lib/python3.11/dist-packages (from openai) (0.10.0)\n",
            "Requirement already satisfied: sniffio in /usr/local/lib/python3.11/dist-packages (from openai) (1.3.1)\n",
            "Requirement already satisfied: tqdm>4 in /usr/local/lib/python3.11/dist-packages (from openai) (4.67.1)\n",
            "Requirement already satisfied: typing-extensions<5,>=4.11 in /usr/local/lib/python3.11/dist-packages (from openai) (4.14.1)\n",
            "Requirement already satisfied: langgraph-checkpoint<3.0.0,>=2.1.0 in /usr/local/lib/python3.11/dist-packages (from langgraph) (2.1.1)\n",
            "Requirement already satisfied: langgraph-prebuilt<0.6.0,>=0.5.0 in /usr/local/lib/python3.11/dist-packages (from langgraph) (0.5.2)\n",
            "Requirement already satisfied: langgraph-sdk<0.2.0,>=0.1.42 in /usr/local/lib/python3.11/dist-packages (from langgraph) (0.1.74)\n",
            "Requirement already satisfied: xxhash>=3.5.0 in /usr/local/lib/python3.11/dist-packages (from langgraph) (3.5.0)\n",
            "Requirement already satisfied: aiohappyeyeballs>=2.3.0 in /usr/local/lib/python3.11/dist-packages (from aiohttp<4.0.0,>=3.8.3->langchain-community) (2.6.1)\n",
            "Requirement already satisfied: aiosignal>=1.1.2 in /usr/local/lib/python3.11/dist-packages (from aiohttp<4.0.0,>=3.8.3->langchain-community) (1.4.0)\n",
            "Requirement already satisfied: attrs>=17.3.0 in /usr/local/lib/python3.11/dist-packages (from aiohttp<4.0.0,>=3.8.3->langchain-community) (25.3.0)\n",
            "Requirement already satisfied: frozenlist>=1.1.1 in /usr/local/lib/python3.11/dist-packages (from aiohttp<4.0.0,>=3.8.3->langchain-community) (1.7.0)\n",
            "Requirement already satisfied: multidict<7.0,>=4.5 in /usr/local/lib/python3.11/dist-packages (from aiohttp<4.0.0,>=3.8.3->langchain-community) (6.6.3)\n",
            "Requirement already satisfied: propcache>=0.2.0 in /usr/local/lib/python3.11/dist-packages (from aiohttp<4.0.0,>=3.8.3->langchain-community) (0.3.2)\n",
            "Requirement already satisfied: yarl<2.0,>=1.17.0 in /usr/local/lib/python3.11/dist-packages (from aiohttp<4.0.0,>=3.8.3->langchain-community) (1.20.1)\n",
            "Requirement already satisfied: idna>=2.8 in /usr/local/lib/python3.11/dist-packages (from anyio<5,>=3.5.0->openai) (3.10)\n",
            "Requirement already satisfied: marshmallow<4.0.0,>=3.18.0 in /usr/local/lib/python3.11/dist-packages (from dataclasses-json<0.7,>=0.5.7->langchain-community) (3.26.1)\n",
            "Requirement already satisfied: typing-inspect<1,>=0.4.0 in /usr/local/lib/python3.11/dist-packages (from dataclasses-json<0.7,>=0.5.7->langchain-community) (0.9.0)\n",
            "Requirement already satisfied: certifi in /usr/local/lib/python3.11/dist-packages (from httpx<1,>=0.23.0->openai) (2025.7.14)\n",
            "Requirement already satisfied: httpcore==1.* in /usr/local/lib/python3.11/dist-packages (from httpx<1,>=0.23.0->openai) (1.0.9)\n",
            "Requirement already satisfied: h11>=0.16 in /usr/local/lib/python3.11/dist-packages (from httpcore==1.*->httpx<1,>=0.23.0->openai) (0.16.0)\n",
            "Requirement already satisfied: jsonpatch<2.0,>=1.33 in /usr/local/lib/python3.11/dist-packages (from langchain-core<1.0.0,>=0.3.66->langchain) (1.33)\n",
            "Requirement already satisfied: packaging>=23.2 in /usr/local/lib/python3.11/dist-packages (from langchain-core<1.0.0,>=0.3.66->langchain) (25.0)\n",
            "Requirement already satisfied: ormsgpack>=1.10.0 in /usr/local/lib/python3.11/dist-packages (from langgraph-checkpoint<3.0.0,>=2.1.0->langgraph) (1.10.0)\n",
            "Requirement already satisfied: orjson>=3.10.1 in /usr/local/lib/python3.11/dist-packages (from langgraph-sdk<0.2.0,>=0.1.42->langgraph) (3.11.0)\n",
            "Requirement already satisfied: requests-toolbelt<2.0.0,>=1.0.0 in /usr/local/lib/python3.11/dist-packages (from langsmith>=0.1.17->langchain) (1.0.0)\n",
            "Requirement already satisfied: zstandard<0.24.0,>=0.23.0 in /usr/local/lib/python3.11/dist-packages (from langsmith>=0.1.17->langchain) (0.23.0)\n",
            "Requirement already satisfied: annotated-types>=0.6.0 in /usr/local/lib/python3.11/dist-packages (from pydantic<3.0.0,>=2.7.4->langchain) (0.7.0)\n",
            "Requirement already satisfied: pydantic-core==2.33.2 in /usr/local/lib/python3.11/dist-packages (from pydantic<3.0.0,>=2.7.4->langchain) (2.33.2)\n",
            "Requirement already satisfied: typing-inspection>=0.4.0 in /usr/local/lib/python3.11/dist-packages (from pydantic<3.0.0,>=2.7.4->langchain) (0.4.1)\n",
            "Requirement already satisfied: python-dotenv>=0.21.0 in /usr/local/lib/python3.11/dist-packages (from pydantic-settings<3.0.0,>=2.4.0->langchain-community) (1.1.1)\n",
            "Requirement already satisfied: charset-normalizer<4,>=2 in /usr/local/lib/python3.11/dist-packages (from requests<3,>=2->langchain) (3.4.2)\n",
            "Requirement already satisfied: urllib3<3,>=1.21.1 in /usr/local/lib/python3.11/dist-packages (from requests<3,>=2->langchain) (2.5.0)\n",
            "Requirement already satisfied: greenlet>=1 in /usr/local/lib/python3.11/dist-packages (from SQLAlchemy<3,>=1.4->langchain) (3.2.3)\n",
            "Requirement already satisfied: regex>=2022.1.18 in /usr/local/lib/python3.11/dist-packages (from tiktoken<1,>=0.7->langchain-openai) (2024.11.6)\n",
            "Requirement already satisfied: jsonpointer>=1.9 in /usr/local/lib/python3.11/dist-packages (from jsonpatch<2.0,>=1.33->langchain-core<1.0.0,>=0.3.66->langchain) (3.0.0)\n",
            "Requirement already satisfied: mypy-extensions>=0.3.0 in /usr/local/lib/python3.11/dist-packages (from typing-inspect<1,>=0.4.0->dataclasses-json<0.7,>=0.5.7->langchain-community) (1.1.0)\n"
          ]
        }
      ],
      "source": [
        "! pip install langchain langchain-community langchain-openai openai langgraph"
      ]
    },
    {
      "cell_type": "code",
      "source": [
        "from IPython.display import display, Image\n",
        "from langgraph.graph import START, StateGraph\n",
        "from langchain_openai import ChatOpenAI\n",
        "from langgraph.prebuilt import ToolNode, tools_condition\n",
        "from typing_extensions import TypedDict\n",
        "from typing import Annotated\n",
        "from langgraph.graph.message import add_messages"
      ],
      "metadata": {
        "id": "21NVfYOYlgQi"
      },
      "execution_count": 19,
      "outputs": []
    },
    {
      "cell_type": "code",
      "source": [
        "class State(TypedDict):\n",
        "  messages: Annotated[list, add_messages]"
      ],
      "metadata": {
        "id": "Chsz0TV_m9no"
      },
      "execution_count": 20,
      "outputs": []
    },
    {
      "cell_type": "markdown",
      "source": [
        "Installing tool package"
      ],
      "metadata": {
        "id": "5EdvOVXoq-Ke"
      }
    },
    {
      "cell_type": "code",
      "source": [
        "!pip install -U duckduckgo-search\n",
        "\n",
        "\n"
      ],
      "metadata": {
        "colab": {
          "base_uri": "https://localhost:8080/"
        },
        "id": "O5ohmukLnsu-",
        "outputId": "4b1920be-9e82-4d5a-c70e-68ada9ff37e1"
      },
      "execution_count": 21,
      "outputs": [
        {
          "output_type": "stream",
          "name": "stdout",
          "text": [
            "Requirement already satisfied: duckduckgo-search in /usr/local/lib/python3.11/dist-packages (8.1.1)\n",
            "Requirement already satisfied: click>=8.1.8 in /usr/local/lib/python3.11/dist-packages (from duckduckgo-search) (8.2.1)\n",
            "Requirement already satisfied: primp>=0.15.0 in /usr/local/lib/python3.11/dist-packages (from duckduckgo-search) (0.15.0)\n",
            "Requirement already satisfied: lxml>=5.3.0 in /usr/local/lib/python3.11/dist-packages (from duckduckgo-search) (5.4.0)\n"
          ]
        }
      ]
    },
    {
      "cell_type": "markdown",
      "source": [],
      "metadata": {
        "id": "zsK9MMZ3rA5-"
      }
    },
    {
      "cell_type": "code",
      "source": [
        "from langchain_community.tools import DuckDuckGoSearchRun\n",
        "\n"
      ],
      "metadata": {
        "id": "zwbNhwnTqPCD"
      },
      "execution_count": 22,
      "outputs": []
    },
    {
      "cell_type": "markdown",
      "source": [
        "1st tool"
      ],
      "metadata": {
        "id": "UuqnSl36-iyH"
      }
    },
    {
      "cell_type": "code",
      "source": [
        "def search_duckduckgo(query:str):\n",
        "  \"\"\"\n",
        "  searching tool\n",
        "  \"\"\"\n",
        "  search = DuckDuckGoSearchRun()\n",
        "  return search.invoke(query)"
      ],
      "metadata": {
        "id": "geZq1VpNrYKv"
      },
      "execution_count": 23,
      "outputs": []
    },
    {
      "cell_type": "code",
      "source": [
        "result = search_duckduckgo(\"what are ai agents in english\")\n",
        "print(result)"
      ],
      "metadata": {
        "colab": {
          "base_uri": "https://localhost:8080/"
        },
        "id": "_bWp58Oc9b9I",
        "outputId": "9c238ffd-6cdb-4e32-d20c-111a5c3fe962"
      },
      "execution_count": 24,
      "outputs": [
        {
          "output_type": "stream",
          "name": "stdout",
          "text": [
            "1 day ago · An AI pipeline developed by CSAIL researchers enables unique hydrodynamic designs for bodyboard-sized vehicles that glide underwater and could help scientists … Nov 22, 2024 · MIT researchers developed an efficient approach for training more reliable reinforcement learning models, focusing on complex tasks that involve variability. This … Jan 17, 2025 · MIT News explores the environmental and sustainability implications of generative AI technologies and … Jan 16, 2025 · MIT Assistant Professor Manish Raghavan uses computational techniques to push toward better solutions to long … Jun 10, 2025 · A new study finds people are more likely to approve of the use of AI in situations where its abilities are perceived as superior to humans’ and where …\n"
          ]
        },
        {
          "output_type": "stream",
          "name": "stderr",
          "text": [
            "/usr/local/lib/python3.11/dist-packages/langchain_community/utilities/duckduckgo_search.py:63: RuntimeWarning: This package (`duckduckgo_search`) has been renamed to `ddgs`! Use `pip install ddgs` instead.\n",
            "  with DDGS() as ddgs:\n"
          ]
        }
      ]
    },
    {
      "cell_type": "markdown",
      "source": [
        "2nd tool"
      ],
      "metadata": {
        "id": "DVR8F6y_-lhB"
      }
    },
    {
      "cell_type": "code",
      "source": [
        "def add(a: int, b: int) -> int:\n",
        "  \"\"\"\n",
        "  Adds a and b\n",
        "  \"\"\"\n",
        "  return a+b"
      ],
      "metadata": {
        "id": "rWXmBuJV-nu8"
      },
      "execution_count": 25,
      "outputs": []
    },
    {
      "cell_type": "markdown",
      "source": [
        "3rd tool"
      ],
      "metadata": {
        "id": "j9FhehE9_4CP"
      }
    },
    {
      "cell_type": "code",
      "source": [
        "def multiply(a: int, b: int) -> int:\n",
        "  \"\"\"\n",
        "  multiply a and b\n",
        "  \"\"\"\n",
        "  return a*b"
      ],
      "metadata": {
        "id": "OjPbwti7__Mk"
      },
      "execution_count": 26,
      "outputs": []
    },
    {
      "cell_type": "markdown",
      "source": [
        "initializing llm"
      ],
      "metadata": {
        "id": "TwhY9CNTAnaD"
      }
    },
    {
      "cell_type": "code",
      "source": [
        "from google.colab import userdata\n",
        "api_key = userdata.get('OPENAI_API_KEY')\n",
        "llm = ChatOpenAI(model_name=\"gpt-4o-mini\", temperature=0, api_key = api_key)"
      ],
      "metadata": {
        "collapsed": true,
        "id": "SBzRsOeQAsP9"
      },
      "execution_count": 28,
      "outputs": []
    },
    {
      "cell_type": "code",
      "source": [
        "llm.invoke(\"what are ai agents\").content"
      ],
      "metadata": {
        "colab": {
          "base_uri": "https://localhost:8080/",
          "height": 123
        },
        "id": "hj37wNGtBWSq",
        "outputId": "aac30d46-3ba0-4cc1-f0a3-c3787307dd79"
      },
      "execution_count": 29,
      "outputs": [
        {
          "output_type": "execute_result",
          "data": {
            "text/plain": [
              "'AI agents are systems or programs that use artificial intelligence techniques to perform tasks autonomously or semi-autonomously. They can perceive their environment, make decisions, and take actions based on their programming and learned experiences. AI agents can be categorized in various ways, including:\\n\\n1. **Reactive Agents**: These agents respond to specific stimuli in their environment without maintaining an internal state. They operate based on predefined rules or simple algorithms.\\n\\n2. **Deliberative Agents**: These agents maintain an internal model of the world and can plan and reason about their actions. They often use techniques like search algorithms and decision-making processes.\\n\\n3. **Learning Agents**: These agents can improve their performance over time by learning from their experiences. They often use machine learning techniques to adapt to new situations.\\n\\n4. **Autonomous Agents**: These agents can operate independently without human intervention. They can make decisions and take actions based on their goals and the information available to them.\\n\\n5. **Multi-Agent Systems**: These involve multiple AI agents that interact with each other, either cooperatively or competitively, to achieve individual or collective goals.\\n\\nAI agents can be found in various applications, including:\\n\\n- **Robotics**: Autonomous robots that can navigate and perform tasks in real-world environments.\\n- **Virtual Assistants**: AI systems like Siri, Alexa, or Google Assistant that help users with tasks and provide information.\\n- **Game AI**: Non-player characters (NPCs) in video games that behave intelligently and adapt to player actions.\\n- **Recommendation Systems**: AI agents that analyze user preferences and behaviors to suggest products, services, or content.\\n- **Autonomous Vehicles**: Self-driving cars that use AI to navigate and make driving decisions.\\n\\nOverall, AI agents are designed to enhance efficiency, automate processes, and provide intelligent solutions across various domains.'"
            ],
            "application/vnd.google.colaboratory.intrinsic+json": {
              "type": "string"
            }
          },
          "metadata": {},
          "execution_count": 29
        }
      ]
    },
    {
      "cell_type": "code",
      "source": [
        "tools = [search_duckduckgo, add, multiply]\n",
        "llm_with_tools = llm.bind_tools(tools)"
      ],
      "metadata": {
        "id": "LGeUxSJcEI6g"
      },
      "execution_count": 30,
      "outputs": []
    },
    {
      "cell_type": "code",
      "source": [
        "def chatbot(state: State):\n",
        "  return {\"messages\": llm_with_tools.invoke(state[\"messages\"])}"
      ],
      "metadata": {
        "id": "vEgaNHUqGncj"
      },
      "execution_count": 31,
      "outputs": []
    },
    {
      "cell_type": "markdown",
      "source": [
        "Making graph"
      ],
      "metadata": {
        "id": "_hNFU0kDI_k1"
      }
    },
    {
      "cell_type": "code",
      "source": [
        "graph_builder = StateGraph(State)\n",
        "graph_builder.add_node(\"chatbot\",chatbot)\n",
        "graph_builder.add_node(\"tools\", ToolNode(tools))\n",
        "graph_builder.add_edge(START, \"chatbot\")\n",
        "graph_builder.add_conditional_edges(\"chatbot\", tools_condition)\n",
        "graph_builder.add_edge(\"tools\", \"chatbot\")\n",
        "react_graph = graph_builder.compile()\n",
        "\n"
      ],
      "metadata": {
        "id": "EsUSPe9WHhHY"
      },
      "execution_count": 32,
      "outputs": []
    },
    {
      "cell_type": "code",
      "source": [
        "display(Image(react_graph.get_graph().draw_mermaid_png()))"
      ],
      "metadata": {
        "colab": {
          "base_uri": "https://localhost:8080/",
          "height": 266
        },
        "id": "8iFgB85Cj6ZX",
        "outputId": "2f303e9a-37f8-4502-9b0c-35cf0b7de36d"
      },
      "execution_count": 33,
      "outputs": [
        {
          "output_type": "display_data",
          "data": {
            "image/png": "[encoded data removed]",
            "text/plain": [
              "<IPython.core.display.Image object>"
            ]
          },
          "metadata": {}
        }
      ]
    },
    {
      "cell_type": "code",
      "source": [
        "response = react_graph.invoke({\"messages\":{\"role\": \"user\", \"content\":\"what is the weather temperature in chandigarh. Multiply it by 2 and add 5.\"}})\n",
        "print(response)"
      ],
      "metadata": {
        "colab": {
          "base_uri": "https://localhost:8080/"
        },
        "id": "FtmYhg2_f5gJ",
        "outputId": "46bf5fdf-cfa8-49e9-99f5-b36f4441e057"
      },
      "execution_count": 34,
      "outputs": [
        {
          "output_type": "stream",
          "name": "stderr",
          "text": [
            "/usr/local/lib/python3.11/dist-packages/langchain_community/utilities/duckduckgo_search.py:63: RuntimeWarning: This package (`duckduckgo_search`) has been renamed to `ddgs`! Use `pip install ddgs` instead.\n",
            "  with DDGS() as ddgs:\n",
            "sys:1: ResourceWarning: Unclosed socket <zmq.Socket(zmq.PUSH) at 0x782d52d53bd0>\n",
            "ResourceWarning: Enable tracemalloc to get the object allocation traceback\n",
            "/usr/local/lib/python3.11/dist-packages/langchain_community/utilities/duckduckgo_search.py:63: RuntimeWarning: This package (`duckduckgo_search`) has been renamed to `ddgs`! Use `pip install ddgs` instead.\n",
            "  with DDGS() as ddgs:\n",
            "sys:1: ResourceWarning: Unclosed socket <zmq.Socket(zmq.PUSH) at 0x782d52d53b60>\n",
            "ResourceWarning: Enable tracemalloc to get the object allocation traceback\n",
            "/usr/local/lib/python3.11/dist-packages/langchain_community/utilities/duckduckgo_search.py:63: RuntimeWarning: This package (`duckduckgo_search`) has been renamed to `ddgs`! Use `pip install ddgs` instead.\n",
            "  with DDGS() as ddgs:\n",
            "sys:1: ResourceWarning: Unclosed socket <zmq.Socket(zmq.PUSH) at 0x782d52d539a0>\n",
            "ResourceWarning: Enable tracemalloc to get the object allocation traceback\n",
            "/usr/local/lib/python3.11/dist-packages/langchain_community/utilities/duckduckgo_search.py:63: RuntimeWarning: This package (`duckduckgo_search`) has been renamed to `ddgs`! Use `pip install ddgs` instead.\n",
            "  with DDGS() as ddgs:\n",
            "sys:1: ResourceWarning: Unclosed socket <zmq.Socket(zmq.PUSH) at 0x782d52d53e70>\n",
            "ResourceWarning: Enable tracemalloc to get the object allocation traceback\n",
            "/usr/local/lib/python3.11/dist-packages/langchain_community/utilities/duckduckgo_search.py:63: RuntimeWarning: This package (`duckduckgo_search`) has been renamed to `ddgs`! Use `pip install ddgs` instead.\n",
            "  with DDGS() as ddgs:\n",
            "sys:1: ResourceWarning: Unclosed socket <zmq.Socket(zmq.PUSH) at 0x782d52d53460>\n",
            "ResourceWarning: Enable tracemalloc to get the object allocation traceback\n",
            "/usr/local/lib/python3.11/dist-packages/langchain_community/utilities/duckduckgo_search.py:63: RuntimeWarning: This package (`duckduckgo_search`) has been renamed to `ddgs`! Use `pip install ddgs` instead.\n",
            "  with DDGS() as ddgs:\n",
            "sys:1: ResourceWarning: Unclosed socket <zmq.Socket(zmq.PUSH) at 0x782d52d53b60>\n",
            "ResourceWarning: Enable tracemalloc to get the object allocation traceback\n",
            "/usr/local/lib/python3.11/dist-packages/langchain_community/utilities/duckduckgo_search.py:63: RuntimeWarning: This package (`duckduckgo_search`) has been renamed to `ddgs`! Use `pip install ddgs` instead.\n",
            "  with DDGS() as ddgs:\n",
            "sys:1: ResourceWarning: Unclosed socket <zmq.Socket(zmq.PUSH) at 0x782d52d53cb0>\n",
            "ResourceWarning: Enable tracemalloc to get the object allocation traceback\n",
            "/usr/local/lib/python3.11/dist-packages/langchain_community/utilities/duckduckgo_search.py:63: RuntimeWarning: This package (`duckduckgo_search`) has been renamed to `ddgs`! Use `pip install ddgs` instead.\n",
            "  with DDGS() as ddgs:\n",
            "sys:1: ResourceWarning: Unclosed socket <zmq.Socket(zmq.PUSH) at 0x782d52d53d20>\n",
            "ResourceWarning: Enable tracemalloc to get the object allocation traceback\n"
          ]
        },
        {
          "output_type": "stream",
          "name": "stdout",
          "text": [
            "{'messages': [HumanMessage(content='what is the weather temperature in chandigarh. Multiply it by 2 and add 5.', additional_kwargs={}, response_metadata={}, id='e85bf226-2cbb-4526-8d99-589334380c22'), AIMessage(content='', additional_kwargs={'tool_calls': [{'id': 'call_lyjbXQMO06oEgVNhBEMyqazA', 'function': {'arguments': '{\"query\":\"current weather temperature in Chandigarh\"}', 'name': 'search_duckduckgo'}, 'type': 'function'}], 'refusal': None}, response_metadata={'token_usage': {'completion_tokens': 21, 'prompt_tokens': 106, 'total_tokens': 127, 'completion_tokens_details': {'accepted_prediction_tokens': 0, 'audio_tokens': 0, 'reasoning_tokens': 0, 'rejected_prediction_tokens': 0}, 'prompt_tokens_details': {'audio_tokens': 0, 'cached_tokens': 0}}, 'model_name': 'gpt-4o-mini-2024-07-18', 'system_fingerprint': None, 'id': 'chatcmpl-BwDVnljZiYavpe27U6JMoq2feojtP', 'service_tier': 'default', 'finish_reason': 'tool_calls', 'logprobs': None}, id='run--57426785-4f09-4965-b752-924549c0e3cf-0', tool_calls=[{'name': 'search_duckduckgo', 'args': {'query': 'current weather temperature in Chandigarh'}, 'id': 'call_lyjbXQMO06oEgVNhBEMyqazA', 'type': 'tool_call'}], usage_metadata={'input_tokens': 106, 'output_tokens': 21, 'total_tokens': 127, 'input_token_details': {'audio': 0, 'cache_read': 0}, 'output_token_details': {'audio': 0, 'reasoning': 0}}), ToolMessage(content='Jul 11, 2022 · To start, I am an unemployed, disabled veteran. I am returning to school to try and work towards a job that I am capable of. currently I am in need of an iPhone for school … May 22, 2018 · Just move the SIM card from your current phone to the new phone. If the new phone takes a different size, go to an ATT store for a replacement, they will activate it with your … Aug 7, 2018 · You mention over due bills. If your missing credits follow late payments, that’s your answer. Pay EVERY bill on time without fail and the problem may resolve. Once suspended, … Oct 31, 2020 · my current router, 2Wire 3801 HGV-B, it\\'s OLD and I NEED A BETTER REPLACEMENT! HOW CAN I GET A NEW MODEL? has an issue with intermittently resetting … Aug 13, 2018 · When reviewing usage logs for \"Current Billed Usage (Jun xx, 2018- Jul yy,2018), the itemized text log shows the occurrences correctly with regards to date/time; contact #; …', name='search_duckduckgo', id='fb9eb361-179a-4202-9e8b-ec7da5daca58', tool_call_id='call_lyjbXQMO06oEgVNhBEMyqazA'), AIMessage(content='', additional_kwargs={'tool_calls': [{'id': 'call_qOViDikNuqgufUeZUOwjEsRL', 'function': {'arguments': '{\"query\":\"current temperature in Chandigarh\"}', 'name': 'search_duckduckgo'}, 'type': 'function'}], 'refusal': None}, response_metadata={'token_usage': {'completion_tokens': 20, 'prompt_tokens': 379, 'total_tokens': 399, 'completion_tokens_details': {'accepted_prediction_tokens': 0, 'audio_tokens': 0, 'reasoning_tokens': 0, 'rejected_prediction_tokens': 0}, 'prompt_tokens_details': {'audio_tokens': 0, 'cached_tokens': 0}}, 'model_name': 'gpt-4o-mini-2024-07-18', 'system_fingerprint': None, 'id': 'chatcmpl-BwDVozXFEE5br8qEPeLH2oRezFwV6', 'service_tier': 'default', 'finish_reason': 'tool_calls', 'logprobs': None}, id='run--5fa7126c-bbc5-4692-a524-4ddb782fe5e1-0', tool_calls=[{'name': 'search_duckduckgo', 'args': {'query': 'current temperature in Chandigarh'}, 'id': 'call_qOViDikNuqgufUeZUOwjEsRL', 'type': 'tool_call'}], usage_metadata={'input_tokens': 379, 'output_tokens': 20, 'total_tokens': 399, 'input_token_details': {'audio': 0, 'cache_read': 0}, 'output_token_details': {'audio': 0, 'reasoning': 0}}), ToolMessage(content='Jul 11, 2022 · To start, I am an unemployed, disabled veteran. I am returning to school to try and work towards a job that I am capable of. currently I am in need of an iPhone for school instead of … May 22, 2018 · Just move the SIM card from your current phone to the new phone. If the new phone takes a different size, go to an ATT store for a replacement, they will activate it with your number. Aug 7, 2018 · You mention over due bills. If your missing credits follow late payments, that’s your answer. Pay EVERY bill on time without fail and the problem may resolve. Once suspended, they … Oct 31, 2020 · my current router, 2Wire 3801 HGV-B, it\\'s OLD and I NEED A BETTER REPLACEMENT! HOW CAN I GET A NEW MODEL? has an issue with intermittently resetting itself … Aug 13, 2018 · When reviewing usage logs for \"Current Billed Usage (Jun xx, 2018- Jul yy,2018), the itemized text log shows the occurrences correctly with regards to date/time; contact #; …', name='search_duckduckgo', id='b1d7807d-1595-45e8-9e3b-570a81704259', tool_call_id='call_qOViDikNuqgufUeZUOwjEsRL'), AIMessage(content='', additional_kwargs={'tool_calls': [{'id': 'call_lUxTzs4v4BL3ownj2BsPJ6Oz', 'function': {'arguments': '{\"query\":\"Chandigarh weather temperature today\"}', 'name': 'search_duckduckgo'}, 'type': 'function'}], 'refusal': None}, response_metadata={'token_usage': {'completion_tokens': 22, 'prompt_tokens': 656, 'total_tokens': 678, 'completion_tokens_details': {'accepted_prediction_tokens': 0, 'audio_tokens': 0, 'reasoning_tokens': 0, 'rejected_prediction_tokens': 0}, 'prompt_tokens_details': {'audio_tokens': 0, 'cached_tokens': 0}}, 'model_name': 'gpt-4o-mini-2024-07-18', 'system_fingerprint': None, 'id': 'chatcmpl-BwDVqK4ZX8DQINRUp1D3S2LBxJWZS', 'service_tier': 'default', 'finish_reason': 'tool_calls', 'logprobs': None}, id='run--cab47192-9998-4601-b973-2c17dbb6aad6-0', tool_calls=[{'name': 'search_duckduckgo', 'args': {'query': 'Chandigarh weather temperature today'}, 'id': 'call_lUxTzs4v4BL3ownj2BsPJ6Oz', 'type': 'tool_call'}], usage_metadata={'input_tokens': 656, 'output_tokens': 22, 'total_tokens': 678, 'input_token_details': {'audio': 0, 'cache_read': 0}, 'output_token_details': {'audio': 0, 'reasoning': 0}}), ToolMessage(content=\"Chandigarh[b] is a city and union territory in northwestern India, serving as the shared capital of the states of Punjab and Haryana. Situated near the foothills of the Shivalik … Jul 12, 2025 · Chandigarh, city and union territory of India. Located about 165 miles (265 km) north of New Delhi, the territory is bounded by the state of Haryana on the east … Chandigarh, the dream city of India's first Prime Minister, Sh. Jawahar Lal Nehru, was planned by the famous French architect Le Corbusier. Picturesquely located at the … Check out must-see sights and activities: The Rock Garden of Chandigarh, Elante mall, City Tours, Scenic Walking Areas. For personalised recommendations, try our AI trip-planning … Chandigarh is the best-planned city in India, with architecture which is world-renowned, and a quality of life, which is unparalleled. As the capital of the states of Punjab and …\", name='search_duckduckgo', id='682191fa-5967-46c9-8190-2c0bd2e15c69', tool_call_id='call_lUxTzs4v4BL3ownj2BsPJ6Oz'), AIMessage(content='', additional_kwargs={'tool_calls': [{'id': 'call_eUNlc8N9r9ndGBu1mrbpi2PL', 'function': {'arguments': '{\"query\":\"current temperature in Chandigarh India\"}', 'name': 'search_duckduckgo'}, 'type': 'function'}], 'refusal': None}, response_metadata={'token_usage': {'completion_tokens': 21, 'prompt_tokens': 885, 'total_tokens': 906, 'completion_tokens_details': {'accepted_prediction_tokens': 0, 'audio_tokens': 0, 'reasoning_tokens': 0, 'rejected_prediction_tokens': 0}, 'prompt_tokens_details': {'audio_tokens': 0, 'cached_tokens': 0}}, 'model_name': 'gpt-4o-mini-2024-07-18', 'system_fingerprint': None, 'id': 'chatcmpl-BwDVrNriGfYpaqKiTsOVntVvfObCG', 'service_tier': 'default', 'finish_reason': 'tool_calls', 'logprobs': None}, id='run--3b110312-441a-4cb6-9a19-02e3dbfcb998-0', tool_calls=[{'name': 'search_duckduckgo', 'args': {'query': 'current temperature in Chandigarh India'}, 'id': 'call_eUNlc8N9r9ndGBu1mrbpi2PL', 'type': 'tool_call'}], usage_metadata={'input_tokens': 885, 'output_tokens': 21, 'total_tokens': 906, 'input_token_details': {'audio': 0, 'cache_read': 0}, 'output_token_details': {'audio': 0, 'reasoning': 0}}), ToolMessage(content='Jul 11, 2022 · To start, I am an unemployed, disabled veteran. I am returning to school to try and work towards a job that I am capable of. currently I am in need of an iPhone for school instead … May 22, 2018 · Just move the SIM card from your current phone to the new phone. If the new phone takes a different size, go to an ATT store for a replacement, they will activate it with … Aug 7, 2018 · You mention over due bills. If your missing credits follow late payments, that’s your answer. Pay EVERY bill on time without fail and the problem may resolve. Once suspended, … Oct 31, 2020 · my current router, 2Wire 3801 HGV-B, it\\'s OLD and I NEED A BETTER REPLACEMENT! HOW CAN I GET A NEW MODEL? has an issue with intermittently resetting … Aug 13, 2018 · When reviewing usage logs for \"Current Billed Usage (Jun xx, 2018- Jul yy,2018), the itemized text log shows the occurrences correctly with regards to date/time; contact #; …', name='search_duckduckgo', id='3e91bb6f-b859-4708-beb0-385ca87d0fd8', tool_call_id='call_eUNlc8N9r9ndGBu1mrbpi2PL'), AIMessage(content='', additional_kwargs={'tool_calls': [{'id': 'call_r409tbPv2cqyISxrAzmAPtcc', 'function': {'arguments': '{\"query\":\"Chandigarh current weather\"}', 'name': 'search_duckduckgo'}, 'type': 'function'}], 'refusal': None}, response_metadata={'token_usage': {'completion_tokens': 21, 'prompt_tokens': 1158, 'total_tokens': 1179, 'completion_tokens_details': {'accepted_prediction_tokens': 0, 'audio_tokens': 0, 'reasoning_tokens': 0, 'rejected_prediction_tokens': 0}, 'prompt_tokens_details': {'audio_tokens': 0, 'cached_tokens': 0}}, 'model_name': 'gpt-4o-mini-2024-07-18', 'system_fingerprint': None, 'id': 'chatcmpl-BwDVsXSQGDIfkx6zllqS1PKpF44rd', 'service_tier': 'default', 'finish_reason': 'tool_calls', 'logprobs': None}, id='run--464feb0b-6363-4265-a892-2ef53a8e3e9f-0', tool_calls=[{'name': 'search_duckduckgo', 'args': {'query': 'Chandigarh current weather'}, 'id': 'call_r409tbPv2cqyISxrAzmAPtcc', 'type': 'tool_call'}], usage_metadata={'input_tokens': 1158, 'output_tokens': 21, 'total_tokens': 1179, 'input_token_details': {'audio': 0, 'cache_read': 0}, 'output_token_details': {'audio': 0, 'reasoning': 0}}), ToolMessage(content=\"Chandigarh[b] is a city and union territory in northwestern India, serving as the shared capital of the states of Punjab and Haryana. Situated near the foothills of the Shivalik range of … Jul 12, 2025 · Chandigarh, city and union territory of India. Located about 165 miles (265 km) north of New Delhi, the territory is bounded by the state of Haryana on the east and by the … Chandigarh, the dream city of India's first Prime Minister, Sh. Jawahar Lal Nehru, was planned by the famous French architect Le Corbusier. Picturesquely located at the foothills of Shivaliks, it … Check out must-see sights and activities: The Rock Garden of Chandigarh, Elante mall, City Tours, Scenic Walking Areas. For personalised recommendations, try our AI trip-planning … Chandigarh is the best-planned city in India, with architecture which is world-renowned, and a quality of life, which is unparalleled. As the capital of the states of Punjab and Haryana, and …\", name='search_duckduckgo', id='d596214d-8476-43eb-bca4-76898e3661af', tool_call_id='call_r409tbPv2cqyISxrAzmAPtcc'), AIMessage(content='', additional_kwargs={'tool_calls': [{'id': 'call_ztU3n1nR1JsAXOBy5vCY3pQP', 'function': {'arguments': '{\"query\":\"Chandigarh temperature now\"}', 'name': 'search_duckduckgo'}, 'type': 'function'}], 'refusal': None}, response_metadata={'token_usage': {'completion_tokens': 21, 'prompt_tokens': 1402, 'total_tokens': 1423, 'completion_tokens_details': {'accepted_prediction_tokens': 0, 'audio_tokens': 0, 'reasoning_tokens': 0, 'rejected_prediction_tokens': 0}, 'prompt_tokens_details': {'audio_tokens': 0, 'cached_tokens': 0}}, 'model_name': 'gpt-4o-mini-2024-07-18', 'system_fingerprint': None, 'id': 'chatcmpl-BwDVu54kvmzRg0KT4Iy6leQPrqleE', 'service_tier': 'default', 'finish_reason': 'tool_calls', 'logprobs': None}, id='run--8bec5f82-6844-46fb-ba4f-26b3c736bae4-0', tool_calls=[{'name': 'search_duckduckgo', 'args': {'query': 'Chandigarh temperature now'}, 'id': 'call_ztU3n1nR1JsAXOBy5vCY3pQP', 'type': 'tool_call'}], usage_metadata={'input_tokens': 1402, 'output_tokens': 21, 'total_tokens': 1423, 'input_token_details': {'audio': 0, 'cache_read': 0}, 'output_token_details': {'audio': 0, 'reasoning': 0}}), ToolMessage(content=\"Chandigarh[b] is a city and union territory in northwestern India, serving as the shared capital of the states of Punjab and Haryana. Situated near the foothills of the Shivalik range of … Jul 12, 2025 · Chandigarh, city and union territory of India. Located about 165 miles (265 km) north of New Delhi, the territory is bounded by the state of Haryana on the east and by the … Chandigarh, the dream city of India's first Prime Minister, Sh. Jawahar Lal Nehru, was planned by the famous French architect Le Corbusier. Picturesquely located at the foothills of Shivaliks, it … Check out must-see sights and activities: The Rock Garden of Chandigarh, Elante mall, City Tours, Scenic Walking Areas. For personalised recommendations, try our AI trip-planning … Chandigarh is the best-planned city in India, with architecture which is world-renowned, and a quality of life, which is unparalleled. As the capital of the states of Punjab and Haryana, and …\", name='search_duckduckgo', id='399c2b89-a715-4bf3-ab07-4b31328a0d7c', tool_call_id='call_ztU3n1nR1JsAXOBy5vCY3pQP'), AIMessage(content='', additional_kwargs={'tool_calls': [{'id': 'call_L8IXIXWiH9NJQKgsZpYt84kA', 'function': {'arguments': '{\"query\":\"current temperature Chandigarh\"}', 'name': 'search_duckduckgo'}, 'type': 'function'}], 'refusal': None}, response_metadata={'token_usage': {'completion_tokens': 19, 'prompt_tokens': 1646, 'total_tokens': 1665, 'completion_tokens_details': {'accepted_prediction_tokens': 0, 'audio_tokens': 0, 'reasoning_tokens': 0, 'rejected_prediction_tokens': 0}, 'prompt_tokens_details': {'audio_tokens': 0, 'cached_tokens': 1280}}, 'model_name': 'gpt-4o-mini-2024-07-18', 'system_fingerprint': None, 'id': 'chatcmpl-BwDVvyHpOcGV7UAQoUnz50GfWGkCn', 'service_tier': 'default', 'finish_reason': 'tool_calls', 'logprobs': None}, id='run--d2ff939f-55ba-40a0-8790-8dd21f5d4915-0', tool_calls=[{'name': 'search_duckduckgo', 'args': {'query': 'current temperature Chandigarh'}, 'id': 'call_L8IXIXWiH9NJQKgsZpYt84kA', 'type': 'tool_call'}], usage_metadata={'input_tokens': 1646, 'output_tokens': 19, 'total_tokens': 1665, 'input_token_details': {'audio': 0, 'cache_read': 1280}, 'output_token_details': {'audio': 0, 'reasoning': 0}}), ToolMessage(content='Jul 11, 2022 · To start, I am an unemployed, disabled veteran. I am returning to school to try and work towards a job that I am capable of. currently I am in need of an iPhone for … May 22, 2018 · Just move the SIM card from your current phone to the new phone. If the new phone takes a different size, go to an ATT store for a replacement, they will activate it … Aug 7, 2018 · You mention over due bills. If your missing credits follow late payments, that’s your answer. Pay EVERY bill on time without fail and the problem may resolve. … Oct 31, 2020 · my current router, 2Wire 3801 HGV-B, it\\'s OLD and I NEED A BETTER REPLACEMENT! HOW CAN I GET A NEW MODEL? has an issue with intermittently … Aug 13, 2018 · When reviewing usage logs for \"Current Billed Usage (Jun xx, 2018- Jul yy,2018), the itemized text log shows the occurrences correctly with regards to …', name='search_duckduckgo', id='98fe0985-4be9-4754-b853-13b926739960', tool_call_id='call_L8IXIXWiH9NJQKgsZpYt84kA'), AIMessage(content='', additional_kwargs={'tool_calls': [{'id': 'call_zlxthSkKXvgJupzdeWQVYbme', 'function': {'arguments': '{\"query\":\"Chandigarh current temperature\"}', 'name': 'search_duckduckgo'}, 'type': 'function'}], 'refusal': None}, response_metadata={'token_usage': {'completion_tokens': 21, 'prompt_tokens': 1904, 'total_tokens': 1925, 'completion_tokens_details': {'accepted_prediction_tokens': 0, 'audio_tokens': 0, 'reasoning_tokens': 0, 'rejected_prediction_tokens': 0}, 'prompt_tokens_details': {'audio_tokens': 0, 'cached_tokens': 1536}}, 'model_name': 'gpt-4o-mini-2024-07-18', 'system_fingerprint': None, 'id': 'chatcmpl-BwDVw3rKyBST7D86IJospSxHHMct6', 'service_tier': 'default', 'finish_reason': 'tool_calls', 'logprobs': None}, id='run--ca349af6-eade-4ae6-9c94-196074b96341-0', tool_calls=[{'name': 'search_duckduckgo', 'args': {'query': 'Chandigarh current temperature'}, 'id': 'call_zlxthSkKXvgJupzdeWQVYbme', 'type': 'tool_call'}], usage_metadata={'input_tokens': 1904, 'output_tokens': 21, 'total_tokens': 1925, 'input_token_details': {'audio': 0, 'cache_read': 1536}, 'output_token_details': {'audio': 0, 'reasoning': 0}}), ToolMessage(content=\"1 day ago · The weather today in Chandigarh will be hot with temperatures reaching 80°F. During the evening and night time the temperatures will drop to 75 ° F. For deep dive information check out our hourly weather forecast for today down the page. Jun 23, 2025 · Current weather in Chandigarh and forecast for today, tomorrow, and next 14 days Jul 13, 2025 · Today's temperature is forecast to be NEARLY THE SAME as yesterday. Cloudy skies early, followed … 2 days ago · How's the weather today in Chandigarh. We provide information on: wind speed, wind direction, … 3 days ago · The current temperature in Chandigarh is 27°C, and tomorrow’s temperature will be 35°C. Additionally, …\", name='search_duckduckgo', id='f252da7b-814a-4bf5-b893-a69607595bae', tool_call_id='call_zlxthSkKXvgJupzdeWQVYbme'), AIMessage(content='', additional_kwargs={'tool_calls': [{'id': 'call_eGdFkBsETffuuQsyfiE7OSvQ', 'function': {'arguments': '{\"a\": 27, \"b\": 2}', 'name': 'multiply'}, 'type': 'function'}, {'id': 'call_LqcIyTc2Tx0FYaK2CXDIFiE5', 'function': {'arguments': '{\"a\": 54, \"b\": 5}', 'name': 'add'}, 'type': 'function'}], 'refusal': None}, response_metadata={'token_usage': {'completion_tokens': 50, 'prompt_tokens': 2093, 'total_tokens': 2143, 'completion_tokens_details': {'accepted_prediction_tokens': 0, 'audio_tokens': 0, 'reasoning_tokens': 0, 'rejected_prediction_tokens': 0}, 'prompt_tokens_details': {'audio_tokens': 0, 'cached_tokens': 1152}}, 'model_name': 'gpt-4o-mini-2024-07-18', 'system_fingerprint': None, 'id': 'chatcmpl-BwDVyYJhplQPeDg9hiGtJkMRRmdLZ', 'service_tier': 'default', 'finish_reason': 'tool_calls', 'logprobs': None}, id='run--02157c87-6ec9-4cd0-b93c-00e43cd7baa2-0', tool_calls=[{'name': 'multiply', 'args': {'a': 27, 'b': 2}, 'id': 'call_eGdFkBsETffuuQsyfiE7OSvQ', 'type': 'tool_call'}, {'name': 'add', 'args': {'a': 54, 'b': 5}, 'id': 'call_LqcIyTc2Tx0FYaK2CXDIFiE5', 'type': 'tool_call'}], usage_metadata={'input_tokens': 2093, 'output_tokens': 50, 'total_tokens': 2143, 'input_token_details': {'audio': 0, 'cache_read': 1152}, 'output_token_details': {'audio': 0, 'reasoning': 0}}), ToolMessage(content='54', name='multiply', id='57d742a9-0a3f-4088-af6f-373de4c7389b', tool_call_id='call_eGdFkBsETffuuQsyfiE7OSvQ'), ToolMessage(content='59', name='add', id='3a2eaaa0-83be-4ee1-887c-d4f191a2fd9f', tool_call_id='call_LqcIyTc2Tx0FYaK2CXDIFiE5'), AIMessage(content='The current temperature in Chandigarh is 27°C. When you multiply it by 2, you get 54. Adding 5 gives you a total of 59.', additional_kwargs={'refusal': None}, response_metadata={'token_usage': {'completion_tokens': 35, 'prompt_tokens': 2159, 'total_tokens': 2194, 'completion_tokens_details': {'accepted_prediction_tokens': 0, 'audio_tokens': 0, 'reasoning_tokens': 0, 'rejected_prediction_tokens': 0}, 'prompt_tokens_details': {'audio_tokens': 0, 'cached_tokens': 1792}}, 'model_name': 'gpt-4o-mini-2024-07-18', 'system_fingerprint': None, 'id': 'chatcmpl-BwDW03U9WqCXWvpvatbyM4fiRbw56', 'service_tier': 'default', 'finish_reason': 'stop', 'logprobs': None}, id='run--f0af32ff-2b22-48f3-bfed-8604a35225f1-0', usage_metadata={'input_tokens': 2159, 'output_tokens': 35, 'total_tokens': 2194, 'input_token_details': {'audio': 0, 'cache_read': 1792}, 'output_token_details': {'audio': 0, 'reasoning': 0}})]}\n"
          ]
        }
      ]
    },
    {
      "cell_type": "code",
      "source": [
        "for m in response[\"messages\"]:\n",
        "  m.pretty_print()"
      ],
      "metadata": {
        "colab": {
          "base_uri": "https://localhost:8080/"
        },
        "id": "OcE4GpzyHpLb",
        "outputId": "52162321-448d-4b08-a9e9-10c0394d717b"
      },
      "execution_count": 35,
      "outputs": [
        {
          "output_type": "stream",
          "name": "stdout",
          "text": [
            "================================\u001b[1m Human Message \u001b[0m=================================\n",
            "\n",
            "what is the weather temperature in chandigarh. Multiply it by 2 and add 5.\n",
            "==================================\u001b[1m Ai Message \u001b[0m==================================\n",
            "Tool Calls:\n",
            "  search_duckduckgo (call_lyjbXQMO06oEgVNhBEMyqazA)\n",
            " Call ID: call_lyjbXQMO06oEgVNhBEMyqazA\n",
            "  Args:\n",
            "    query: current weather temperature in Chandigarh\n",
            "=================================\u001b[1m Tool Message \u001b[0m=================================\n",
            "Name: search_duckduckgo\n",
            "\n",
            "Jul 11, 2022 · To start, I am an unemployed, disabled veteran. I am returning to school to try and work towards a job that I am capable of. currently I am in need of an iPhone for school … May 22, 2018 · Just move the SIM card from your current phone to the new phone. If the new phone takes a different size, go to an ATT store for a replacement, they will activate it with your … Aug 7, 2018 · You mention over due bills. If your missing credits follow late payments, that’s your answer. Pay EVERY bill on time without fail and the problem may resolve. Once suspended, … Oct 31, 2020 · my current router, 2Wire 3801 HGV-B, it's OLD and I NEED A BETTER REPLACEMENT! HOW CAN I GET A NEW MODEL? has an issue with intermittently resetting … Aug 13, 2018 · When reviewing usage logs for \"Current Billed Usage (Jun xx, 2018- Jul yy,2018), the itemized text log shows the occurrences correctly with regards to date/time; contact #; …\n",
            "==================================\u001b[1m Ai Message \u001b[0m==================================\n",
            "Tool Calls:\n",
            "  search_duckduckgo (call_qOViDikNuqgufUeZUOwjEsRL)\n",
            " Call ID: call_qOViDikNuqgufUeZUOwjEsRL\n",
            "  Args:\n",
            "    query: current temperature in Chandigarh\n",
            "=================================\u001b[1m Tool Message \u001b[0m=================================\n",
            "Name: search_duckduckgo\n",
            "\n",
            "Jul 11, 2022 · To start, I am an unemployed, disabled veteran. I am returning to school to try and work towards a job that I am capable of. currently I am in need of an iPhone for school instead of … May 22, 2018 · Just move the SIM card from your current phone to the new phone. If the new phone takes a different size, go to an ATT store for a replacement, they will activate it with your number. Aug 7, 2018 · You mention over due bills. If your missing credits follow late payments, that’s your answer. Pay EVERY bill on time without fail and the problem may resolve. Once suspended, they … Oct 31, 2020 · my current router, 2Wire 3801 HGV-B, it's OLD and I NEED A BETTER REPLACEMENT! HOW CAN I GET A NEW MODEL? has an issue with intermittently resetting itself … Aug 13, 2018 · When reviewing usage logs for \"Current Billed Usage (Jun xx, 2018- Jul yy,2018), the itemized text log shows the occurrences correctly with regards to date/time; contact #; …\n",
            "==================================\u001b[1m Ai Message \u001b[0m==================================\n",
            "Tool Calls:\n",
            "  search_duckduckgo (call_lUxTzs4v4BL3ownj2BsPJ6Oz)\n",
            " Call ID: call_lUxTzs4v4BL3ownj2BsPJ6Oz\n",
            "  Args:\n",
            "    query: Chandigarh weather temperature today\n",
            "=================================\u001b[1m Tool Message \u001b[0m=================================\n",
            "Name: search_duckduckgo\n",
            "\n",
            "Chandigarh[b] is a city and union territory in northwestern India, serving as the shared capital of the states of Punjab and Haryana. Situated near the foothills of the Shivalik … Jul 12, 2025 · Chandigarh, city and union territory of India. Located about 165 miles (265 km) north of New Delhi, the territory is bounded by the state of Haryana on the east … Chandigarh, the dream city of India's first Prime Minister, Sh. Jawahar Lal Nehru, was planned by the famous French architect Le Corbusier. Picturesquely located at the … Check out must-see sights and activities: The Rock Garden of Chandigarh, Elante mall, City Tours, Scenic Walking Areas. For personalised recommendations, try our AI trip-planning … Chandigarh is the best-planned city in India, with architecture which is world-renowned, and a quality of life, which is unparalleled. As the capital of the states of Punjab and …\n",
            "==================================\u001b[1m Ai Message \u001b[0m==================================\n",
            "Tool Calls:\n",
            "  search_duckduckgo (call_eUNlc8N9r9ndGBu1mrbpi2PL)\n",
            " Call ID: call_eUNlc8N9r9ndGBu1mrbpi2PL\n",
            "  Args:\n",
            "    query: current temperature in Chandigarh India\n",
            "=================================\u001b[1m Tool Message \u001b[0m=================================\n",
            "Name: search_duckduckgo\n",
            "\n",
            "Jul 11, 2022 · To start, I am an unemployed, disabled veteran. I am returning to school to try and work towards a job that I am capable of. currently I am in need of an iPhone for school instead … May 22, 2018 · Just move the SIM card from your current phone to the new phone. If the new phone takes a different size, go to an ATT store for a replacement, they will activate it with … Aug 7, 2018 · You mention over due bills. If your missing credits follow late payments, that’s your answer. Pay EVERY bill on time without fail and the problem may resolve. Once suspended, … Oct 31, 2020 · my current router, 2Wire 3801 HGV-B, it's OLD and I NEED A BETTER REPLACEMENT! HOW CAN I GET A NEW MODEL? has an issue with intermittently resetting … Aug 13, 2018 · When reviewing usage logs for \"Current Billed Usage (Jun xx, 2018- Jul yy,2018), the itemized text log shows the occurrences correctly with regards to date/time; contact #; …\n",
            "==================================\u001b[1m Ai Message \u001b[0m==================================\n",
            "Tool Calls:\n",
            "  search_duckduckgo (call_r409tbPv2cqyISxrAzmAPtcc)\n",
            " Call ID: call_r409tbPv2cqyISxrAzmAPtcc\n",
            "  Args:\n",
            "    query: Chandigarh current weather\n",
            "=================================\u001b[1m Tool Message \u001b[0m=================================\n",
            "Name: search_duckduckgo\n",
            "\n",
            "Chandigarh[b] is a city and union territory in northwestern India, serving as the shared capital of the states of Punjab and Haryana. Situated near the foothills of the Shivalik range of … Jul 12, 2025 · Chandigarh, city and union territory of India. Located about 165 miles (265 km) north of New Delhi, the territory is bounded by the state of Haryana on the east and by the … Chandigarh, the dream city of India's first Prime Minister, Sh. Jawahar Lal Nehru, was planned by the famous French architect Le Corbusier. Picturesquely located at the foothills of Shivaliks, it … Check out must-see sights and activities: The Rock Garden of Chandigarh, Elante mall, City Tours, Scenic Walking Areas. For personalised recommendations, try our AI trip-planning … Chandigarh is the best-planned city in India, with architecture which is world-renowned, and a quality of life, which is unparalleled. As the capital of the states of Punjab and Haryana, and …\n",
            "==================================\u001b[1m Ai Message \u001b[0m==================================\n",
            "Tool Calls:\n",
            "  search_duckduckgo (call_ztU3n1nR1JsAXOBy5vCY3pQP)\n",
            " Call ID: call_ztU3n1nR1JsAXOBy5vCY3pQP\n",
            "  Args:\n",
            "    query: Chandigarh temperature now\n",
            "=================================\u001b[1m Tool Message \u001b[0m=================================\n",
            "Name: search_duckduckgo\n",
            "\n",
            "Chandigarh[b] is a city and union territory in northwestern India, serving as the shared capital of the states of Punjab and Haryana. Situated near the foothills of the Shivalik range of … Jul 12, 2025 · Chandigarh, city and union territory of India. Located about 165 miles (265 km) north of New Delhi, the territory is bounded by the state of Haryana on the east and by the … Chandigarh, the dream city of India's first Prime Minister, Sh. Jawahar Lal Nehru, was planned by the famous French architect Le Corbusier. Picturesquely located at the foothills of Shivaliks, it … Check out must-see sights and activities: The Rock Garden of Chandigarh, Elante mall, City Tours, Scenic Walking Areas. For personalised recommendations, try our AI trip-planning … Chandigarh is the best-planned city in India, with architecture which is world-renowned, and a quality of life, which is unparalleled. As the capital of the states of Punjab and Haryana, and …\n",
            "==================================\u001b[1m Ai Message \u001b[0m==================================\n",
            "Tool Calls:\n",
            "  search_duckduckgo (call_L8IXIXWiH9NJQKgsZpYt84kA)\n",
            " Call ID: call_L8IXIXWiH9NJQKgsZpYt84kA\n",
            "  Args:\n",
            "    query: current temperature Chandigarh\n",
            "=================================\u001b[1m Tool Message \u001b[0m=================================\n",
            "Name: search_duckduckgo\n",
            "\n",
            "Jul 11, 2022 · To start, I am an unemployed, disabled veteran. I am returning to school to try and work towards a job that I am capable of. currently I am in need of an iPhone for … May 22, 2018 · Just move the SIM card from your current phone to the new phone. If the new phone takes a different size, go to an ATT store for a replacement, they will activate it … Aug 7, 2018 · You mention over due bills. If your missing credits follow late payments, that’s your answer. Pay EVERY bill on time without fail and the problem may resolve. … Oct 31, 2020 · my current router, 2Wire 3801 HGV-B, it's OLD and I NEED A BETTER REPLACEMENT! HOW CAN I GET A NEW MODEL? has an issue with intermittently … Aug 13, 2018 · When reviewing usage logs for \"Current Billed Usage (Jun xx, 2018- Jul yy,2018), the itemized text log shows the occurrences correctly with regards to …\n",
            "==================================\u001b[1m Ai Message \u001b[0m==================================\n",
            "Tool Calls:\n",
            "  search_duckduckgo (call_zlxthSkKXvgJupzdeWQVYbme)\n",
            " Call ID: call_zlxthSkKXvgJupzdeWQVYbme\n",
            "  Args:\n",
            "    query: Chandigarh current temperature\n",
            "=================================\u001b[1m Tool Message \u001b[0m=================================\n",
            "Name: search_duckduckgo\n",
            "\n",
            "1 day ago · The weather today in Chandigarh will be hot with temperatures reaching 80°F. During the evening and night time the temperatures will drop to 75 ° F. For deep dive information check out our hourly weather forecast for today down the page. Jun 23, 2025 · Current weather in Chandigarh and forecast for today, tomorrow, and next 14 days Jul 13, 2025 · Today's temperature is forecast to be NEARLY THE SAME as yesterday. Cloudy skies early, followed … 2 days ago · How's the weather today in Chandigarh. We provide information on: wind speed, wind direction, … 3 days ago · The current temperature in Chandigarh is 27°C, and tomorrow’s temperature will be 35°C. Additionally, …\n",
            "==================================\u001b[1m Ai Message \u001b[0m==================================\n",
            "Tool Calls:\n",
            "  multiply (call_eGdFkBsETffuuQsyfiE7OSvQ)\n",
            " Call ID: call_eGdFkBsETffuuQsyfiE7OSvQ\n",
            "  Args:\n",
            "    a: 27\n",
            "    b: 2\n",
            "  add (call_LqcIyTc2Tx0FYaK2CXDIFiE5)\n",
            " Call ID: call_LqcIyTc2Tx0FYaK2CXDIFiE5\n",
            "  Args:\n",
            "    a: 54\n",
            "    b: 5\n",
            "=================================\u001b[1m Tool Message \u001b[0m=================================\n",
            "Name: multiply\n",
            "\n",
            "54\n",
            "=================================\u001b[1m Tool Message \u001b[0m=================================\n",
            "Name: add\n",
            "\n",
            "59\n",
            "==================================\u001b[1m Ai Message \u001b[0m==================================\n",
            "\n",
            "The current temperature in Chandigarh is 27°C. When you multiply it by 2, you get 54. Adding 5 gives you a total of 59.\n"
          ]
        }
      ]
    },
    {
      "cell_type": "code",
      "source": [],
      "metadata": {
        "id": "OubW0nbpjj0C"
      },
      "execution_count": 35,
      "outputs": []
    }
  ]
}